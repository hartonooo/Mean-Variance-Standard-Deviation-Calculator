{
 "cells": [
  {
   "cell_type": "code",
   "execution_count": 1,
   "id": "b37d2a5f",
   "metadata": {},
   "outputs": [],
   "source": [
    "import numpy as np"
   ]
  },
  {
   "cell_type": "code",
   "execution_count": 2,
   "id": "90f53656",
   "metadata": {},
   "outputs": [],
   "source": [
    "n = [0,1,2,3,4,5,6,7,8]"
   ]
  },
  {
   "cell_type": "markdown",
   "id": "9a606c0b",
   "metadata": {},
   "source": [
    "#### reshape list"
   ]
  },
  {
   "cell_type": "code",
   "execution_count": 5,
   "id": "6c35f4df",
   "metadata": {},
   "outputs": [
    {
     "data": {
      "text/plain": [
       "array([[0, 1, 2],\n",
       "       [3, 4, 5],\n",
       "       [6, 7, 8]])"
      ]
     },
     "execution_count": 5,
     "metadata": {},
     "output_type": "execute_result"
    }
   ],
   "source": [
    "n_1 = np.reshape(n, (3,3))\n",
    "n_1"
   ]
  },
  {
   "cell_type": "markdown",
   "id": "97fb8578",
   "metadata": {},
   "source": [
    "#### mean"
   ]
  },
  {
   "cell_type": "code",
   "execution_count": 6,
   "id": "f2e97af0",
   "metadata": {},
   "outputs": [
    {
     "data": {
      "text/plain": [
       "array([3., 4., 5.])"
      ]
     },
     "execution_count": 6,
     "metadata": {},
     "output_type": "execute_result"
    }
   ],
   "source": [
    "np.mean(n_1, 0)"
   ]
  },
  {
   "cell_type": "code",
   "execution_count": 7,
   "id": "c1cd0e46",
   "metadata": {},
   "outputs": [
    {
     "data": {
      "text/plain": [
       "array([1., 4., 7.])"
      ]
     },
     "execution_count": 7,
     "metadata": {},
     "output_type": "execute_result"
    }
   ],
   "source": [
    "np.mean(n_1, 1)"
   ]
  },
  {
   "cell_type": "code",
   "execution_count": 8,
   "id": "47f4c181",
   "metadata": {},
   "outputs": [
    {
     "data": {
      "text/plain": [
       "4.0"
      ]
     },
     "execution_count": 8,
     "metadata": {},
     "output_type": "execute_result"
    }
   ],
   "source": [
    "np.mean(n)"
   ]
  },
  {
   "cell_type": "markdown",
   "id": "1d098fc0",
   "metadata": {},
   "source": [
    "#### variance"
   ]
  },
  {
   "cell_type": "code",
   "execution_count": 9,
   "id": "2d694fdc",
   "metadata": {},
   "outputs": [
    {
     "data": {
      "text/plain": [
       "array([6., 6., 6.])"
      ]
     },
     "execution_count": 9,
     "metadata": {},
     "output_type": "execute_result"
    }
   ],
   "source": [
    "np.var(n_1, 0)"
   ]
  },
  {
   "cell_type": "code",
   "execution_count": 10,
   "id": "36a9fe20",
   "metadata": {},
   "outputs": [
    {
     "data": {
      "text/plain": [
       "array([0.66666667, 0.66666667, 0.66666667])"
      ]
     },
     "execution_count": 10,
     "metadata": {},
     "output_type": "execute_result"
    }
   ],
   "source": [
    "np.var(n_1, 1)"
   ]
  },
  {
   "cell_type": "code",
   "execution_count": 11,
   "id": "08a23d40",
   "metadata": {},
   "outputs": [
    {
     "data": {
      "text/plain": [
       "6.666666666666667"
      ]
     },
     "execution_count": 11,
     "metadata": {},
     "output_type": "execute_result"
    }
   ],
   "source": [
    "np.var(n)"
   ]
  },
  {
   "cell_type": "markdown",
   "id": "664b9890",
   "metadata": {},
   "source": [
    "#### std deviation"
   ]
  },
  {
   "cell_type": "code",
   "execution_count": 13,
   "id": "c93bfde5",
   "metadata": {},
   "outputs": [
    {
     "data": {
      "text/plain": [
       "array([2.44948974, 2.44948974, 2.44948974])"
      ]
     },
     "execution_count": 13,
     "metadata": {},
     "output_type": "execute_result"
    }
   ],
   "source": [
    "np.std(n_1, 0)"
   ]
  },
  {
   "cell_type": "code",
   "execution_count": 14,
   "id": "2716d1aa",
   "metadata": {},
   "outputs": [
    {
     "data": {
      "text/plain": [
       "array([0.81649658, 0.81649658, 0.81649658])"
      ]
     },
     "execution_count": 14,
     "metadata": {},
     "output_type": "execute_result"
    }
   ],
   "source": [
    "np.std(n_1, 1)"
   ]
  },
  {
   "cell_type": "code",
   "execution_count": 15,
   "id": "064e60d8",
   "metadata": {},
   "outputs": [
    {
     "data": {
      "text/plain": [
       "2.581988897471611"
      ]
     },
     "execution_count": 15,
     "metadata": {},
     "output_type": "execute_result"
    }
   ],
   "source": [
    "np.std(n)"
   ]
  },
  {
   "cell_type": "markdown",
   "id": "9c19291c",
   "metadata": {},
   "source": [
    "#### max"
   ]
  },
  {
   "cell_type": "code",
   "execution_count": 16,
   "id": "91bf53b9",
   "metadata": {},
   "outputs": [
    {
     "data": {
      "text/plain": [
       "array([6, 7, 8])"
      ]
     },
     "execution_count": 16,
     "metadata": {},
     "output_type": "execute_result"
    }
   ],
   "source": [
    "np.max(n_1, 0)"
   ]
  },
  {
   "cell_type": "code",
   "execution_count": 17,
   "id": "93b7af60",
   "metadata": {},
   "outputs": [
    {
     "data": {
      "text/plain": [
       "array([2, 5, 8])"
      ]
     },
     "execution_count": 17,
     "metadata": {},
     "output_type": "execute_result"
    }
   ],
   "source": [
    "np.max(n_1, 1)"
   ]
  },
  {
   "cell_type": "code",
   "execution_count": 18,
   "id": "bd4b5bed",
   "metadata": {},
   "outputs": [
    {
     "data": {
      "text/plain": [
       "8"
      ]
     },
     "execution_count": 18,
     "metadata": {},
     "output_type": "execute_result"
    }
   ],
   "source": [
    "np.max(n)"
   ]
  },
  {
   "cell_type": "markdown",
   "id": "0ee62e7e",
   "metadata": {},
   "source": [
    "#### min"
   ]
  },
  {
   "cell_type": "code",
   "execution_count": 19,
   "id": "53ce32bb",
   "metadata": {},
   "outputs": [
    {
     "data": {
      "text/plain": [
       "array([0, 1, 2])"
      ]
     },
     "execution_count": 19,
     "metadata": {},
     "output_type": "execute_result"
    }
   ],
   "source": [
    "np.min(n_1, 0)"
   ]
  },
  {
   "cell_type": "code",
   "execution_count": 20,
   "id": "d50be0f1",
   "metadata": {},
   "outputs": [
    {
     "data": {
      "text/plain": [
       "array([0, 3, 6])"
      ]
     },
     "execution_count": 20,
     "metadata": {},
     "output_type": "execute_result"
    }
   ],
   "source": [
    "np.min(n_1, 1)"
   ]
  },
  {
   "cell_type": "code",
   "execution_count": 21,
   "id": "3eb2a1a5",
   "metadata": {},
   "outputs": [
    {
     "data": {
      "text/plain": [
       "0"
      ]
     },
     "execution_count": 21,
     "metadata": {},
     "output_type": "execute_result"
    }
   ],
   "source": [
    "np.min(n)"
   ]
  },
  {
   "cell_type": "markdown",
   "id": "fe3f4bb3",
   "metadata": {},
   "source": [
    "#### sum"
   ]
  },
  {
   "cell_type": "code",
   "execution_count": 22,
   "id": "4faac59b",
   "metadata": {},
   "outputs": [
    {
     "data": {
      "text/plain": [
       "array([ 9, 12, 15])"
      ]
     },
     "execution_count": 22,
     "metadata": {},
     "output_type": "execute_result"
    }
   ],
   "source": [
    "np.sum(n_1, 0)"
   ]
  },
  {
   "cell_type": "code",
   "execution_count": 23,
   "id": "6b190a43",
   "metadata": {},
   "outputs": [
    {
     "data": {
      "text/plain": [
       "array([ 3, 12, 21])"
      ]
     },
     "execution_count": 23,
     "metadata": {},
     "output_type": "execute_result"
    }
   ],
   "source": [
    "np.sum(n_1, 1)"
   ]
  },
  {
   "cell_type": "code",
   "execution_count": 24,
   "id": "bab31d8a",
   "metadata": {},
   "outputs": [
    {
     "data": {
      "text/plain": [
       "36"
      ]
     },
     "execution_count": 24,
     "metadata": {},
     "output_type": "execute_result"
    }
   ],
   "source": [
    "np.sum(n)"
   ]
  },
  {
   "cell_type": "code",
   "execution_count": 34,
   "id": "cf80f2df",
   "metadata": {},
   "outputs": [
    {
     "data": {
      "text/plain": [
       "{'mean': [[3.6666666666666665, 5.0, 3.0],\n",
       "  [3.3333333333333335, 4.0, 4.333333333333333],\n",
       "  3.888888888888889],\n",
       " 'variance': [[9.555555555555557, 0.6666666666666666, 8.666666666666666],\n",
       "  [3.555555555555556, 10.666666666666666, 6.222222222222221],\n",
       "  6.987654320987654],\n",
       " 'standard deviation': [[3.091206165165235,\n",
       "   0.816496580927726,\n",
       "   2.943920288775949],\n",
       "  [1.8856180831641267, 3.265986323710904, 2.494438257849294],\n",
       "  2.6434171674156266],\n",
       " 'max': [[8, 6, 7], [6, 8, 7], 8],\n",
       " 'min': [[1, 4, 0], [2, 0, 1], 0],\n",
       " 'sum': [[11, 15, 9], [10, 12, 13], 35]}"
      ]
     },
     "execution_count": 34,
     "metadata": {},
     "output_type": "execute_result"
    }
   ],
   "source": [
    "def calculate(list):\n",
    "    if len(list) == 9:\n",
    "        n_1 = np.reshape(list, (3,3))\n",
    "        calculations = {}\n",
    "\n",
    "        calculations[\"mean\"] = [[np.mean(n_1, 0)[i] for i in range(len(np.mean(n_1, 0)))],\n",
    "                               [np.mean(n_1, 1)[i] for i in range(len(np.mean(n_1, 1)))],\n",
    "                               np.mean(list)]\n",
    "\n",
    "        calculations[\"variance\"] = [[np.var(n_1, 0)[i] for i in range(len(np.var(n_1, 0)))],\n",
    "                               [np.var(n_1, 1)[i] for i in range(len(np.var(n_1, 1)))],\n",
    "                               np.var(list)]\n",
    "\n",
    "        calculations[\"standard deviation\"] = [[np.std(n_1, 0)[i] for i in range(len(np.std(n_1, 0)))],\n",
    "                               [np.std(n_1, 1)[i] for i in range(len(np.std(n_1, 1)))],\n",
    "                               np.std(list)]\n",
    "\n",
    "        calculations[\"max\"] = [[np.max(n_1, 0)[i] for i in range(len(np.max(n_1, 0)))],\n",
    "                               [np.max(n_1, 1)[i] for i in range(len(np.max(n_1, 1)))],\n",
    "                               np.max(list)]\n",
    "\n",
    "        calculations[\"min\"] = [[np.min(n_1, 0)[i] for i in range(len(np.min(n_1, 0)))],\n",
    "                               [np.min(n_1, 1)[i] for i in range(len(np.min(n_1, 1)))],\n",
    "                               np.min(list)]\n",
    "\n",
    "        calculations[\"sum\"] = [[np.sum(n_1, 0)[i] for i in range(len(np.sum(n_1, 0)))],\n",
    "                               [np.sum(n_1, 1)[i] for i in range(len(np.sum(n_1, 1)))],\n",
    "                               np.sum(list)]\n",
    "        return calculations\n",
    "        \n",
    "        \n",
    "    else:\n",
    "        raise ValueError(\"List must contain nine numbers.\")\n",
    "        \n",
    "        \n",
    "\n",
    "        \n",
    "# calculate([0,1,2,3,4,5,6,7,8])\n",
    "calculate([2,6,2,8,4,0,1,5,7])\n",
    "# calculate([9,1,5,3,3,3,2,9,0])\n",
    "# calculate([2,6,2,8,4,0,1,])"
   ]
  },
  {
   "cell_type": "code",
   "execution_count": null,
   "id": "89a22f12",
   "metadata": {},
   "outputs": [],
   "source": []
  }
 ],
 "metadata": {
  "kernelspec": {
   "display_name": "Python 3 (ipykernel)",
   "language": "python",
   "name": "python3"
  },
  "language_info": {
   "codemirror_mode": {
    "name": "ipython",
    "version": 3
   },
   "file_extension": ".py",
   "mimetype": "text/x-python",
   "name": "python",
   "nbconvert_exporter": "python",
   "pygments_lexer": "ipython3",
   "version": "3.9.15"
  }
 },
 "nbformat": 4,
 "nbformat_minor": 5
}
